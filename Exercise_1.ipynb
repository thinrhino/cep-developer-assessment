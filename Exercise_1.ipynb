{
 "metadata": {
  "name": "",
  "signature": "sha256:6975743d4adaefd4b7d8f3b9c6c623b113e9126bbddc151a440e456b932f2f9b"
 },
 "nbformat": 3,
 "nbformat_minor": 0,
 "worksheets": [
  {
   "cells": [
    {
     "cell_type": "code",
     "collapsed": false,
     "input": [
      "import pandas as pd"
     ],
     "language": "python",
     "metadata": {},
     "outputs": [],
     "prompt_number": 1
    },
    {
     "cell_type": "code",
     "collapsed": false,
     "input": [
      "use_cols = ['unique', 'fdntext', 'fldimp', 'undrfld', 'advknow', 'pubpol', 'comimp', 'undrwr', 'undrsoc', 'orgimp', 'undrorg']\n",
      "df = pd.read_csv('./exercise1/input/xl.csv', index_col='unique', usecols=use_cols, na_values=('77', '88'))"
     ],
     "language": "python",
     "metadata": {},
     "outputs": [],
     "prompt_number": 2
    },
    {
     "cell_type": "code",
     "collapsed": false,
     "input": [
      "df.head()"
     ],
     "language": "python",
     "metadata": {},
     "outputs": [
      {
       "html": [
        "<div style=\"max-height:1000px;max-width:1500px;overflow:auto;\">\n",
        "<table border=\"1\" class=\"dataframe\">\n",
        "  <thead>\n",
        "    <tr style=\"text-align: right;\">\n",
        "      <th></th>\n",
        "      <th>fdntext</th>\n",
        "      <th>fldimp</th>\n",
        "      <th>undrfld</th>\n",
        "      <th>advknow</th>\n",
        "      <th>pubpol</th>\n",
        "      <th>comimp</th>\n",
        "      <th>undrwr</th>\n",
        "      <th>undrsoc</th>\n",
        "      <th>orgimp</th>\n",
        "      <th>undrorg</th>\n",
        "    </tr>\n",
        "    <tr>\n",
        "      <th>unique</th>\n",
        "      <th></th>\n",
        "      <th></th>\n",
        "      <th></th>\n",
        "      <th></th>\n",
        "      <th></th>\n",
        "      <th></th>\n",
        "      <th></th>\n",
        "      <th></th>\n",
        "      <th></th>\n",
        "      <th></th>\n",
        "    </tr>\n",
        "  </thead>\n",
        "  <tbody>\n",
        "    <tr>\n",
        "      <th>1010</th>\n",
        "      <td> Marlborough 14S</td>\n",
        "      <td> 7</td>\n",
        "      <td> 7</td>\n",
        "      <td> 7</td>\n",
        "      <td>NaN</td>\n",
        "      <td>NaN</td>\n",
        "      <td>  7</td>\n",
        "      <td>NaN</td>\n",
        "      <td> 7</td>\n",
        "      <td> 7</td>\n",
        "    </tr>\n",
        "    <tr>\n",
        "      <th>1015</th>\n",
        "      <td> Marlborough 14S</td>\n",
        "      <td> 6</td>\n",
        "      <td> 6</td>\n",
        "      <td> 6</td>\n",
        "      <td>  3</td>\n",
        "      <td>  7</td>\n",
        "      <td>  7</td>\n",
        "      <td>  7</td>\n",
        "      <td> 7</td>\n",
        "      <td> 7</td>\n",
        "    </tr>\n",
        "    <tr>\n",
        "      <th>1019</th>\n",
        "      <td> Marlborough 14S</td>\n",
        "      <td> 7</td>\n",
        "      <td> 7</td>\n",
        "      <td> 7</td>\n",
        "      <td>  4</td>\n",
        "      <td>NaN</td>\n",
        "      <td>NaN</td>\n",
        "      <td>  7</td>\n",
        "      <td> 6</td>\n",
        "      <td> 6</td>\n",
        "    </tr>\n",
        "    <tr>\n",
        "      <th>1499</th>\n",
        "      <td> Marlborough 14S</td>\n",
        "      <td> 5</td>\n",
        "      <td> 7</td>\n",
        "      <td> 5</td>\n",
        "      <td>  4</td>\n",
        "      <td>  5</td>\n",
        "      <td>  3</td>\n",
        "      <td>  5</td>\n",
        "      <td> 6</td>\n",
        "      <td> 5</td>\n",
        "    </tr>\n",
        "    <tr>\n",
        "      <th>1509</th>\n",
        "      <td> Marlborough 14S</td>\n",
        "      <td> 7</td>\n",
        "      <td> 7</td>\n",
        "      <td> 7</td>\n",
        "      <td>NaN</td>\n",
        "      <td>  5</td>\n",
        "      <td>  6</td>\n",
        "      <td>  7</td>\n",
        "      <td> 5</td>\n",
        "      <td> 7</td>\n",
        "    </tr>\n",
        "  </tbody>\n",
        "</table>\n",
        "<p>5 rows \u00d7 10 columns</p>\n",
        "</div>"
       ],
       "metadata": {},
       "output_type": "pyout",
       "prompt_number": 3,
       "text": [
        "                fdntext  fldimp  undrfld  advknow  pubpol  comimp  undrwr  \\\n",
        "unique                                                                      \n",
        "1010    Marlborough 14S       7        7        7     NaN     NaN       7   \n",
        "1015    Marlborough 14S       6        6        6       3       7       7   \n",
        "1019    Marlborough 14S       7        7        7       4     NaN     NaN   \n",
        "1499    Marlborough 14S       5        7        5       4       5       3   \n",
        "1509    Marlborough 14S       7        7        7     NaN       5       6   \n",
        "\n",
        "        undrsoc  orgimp  undrorg  \n",
        "unique                            \n",
        "1010        NaN       7        7  \n",
        "1015          7       7        7  \n",
        "1019          7       6        6  \n",
        "1499          5       6        5  \n",
        "1509          7       5        7  \n",
        "\n",
        "[5 rows x 10 columns]"
       ]
      }
     ],
     "prompt_number": 3
    },
    {
     "cell_type": "code",
     "collapsed": false,
     "input": [
      "mean = df.groupby('fdntext').mean()"
     ],
     "language": "python",
     "metadata": {},
     "outputs": [],
     "prompt_number": 4
    },
    {
     "cell_type": "code",
     "collapsed": false,
     "input": [
      "mean.to_csv('./exercise1/output/mean.csv')"
     ],
     "language": "python",
     "metadata": {},
     "outputs": [],
     "prompt_number": 5
    },
    {
     "cell_type": "code",
     "collapsed": false,
     "input": [
      "stats = mean.describe()"
     ],
     "language": "python",
     "metadata": {},
     "outputs": [],
     "prompt_number": 6
    },
    {
     "cell_type": "code",
     "collapsed": false,
     "input": [
      "stats.to_csv('./exercise1/output/stats.csv')"
     ],
     "language": "python",
     "metadata": {},
     "outputs": [],
     "prompt_number": 7
    }
   ],
   "metadata": {}
  }
 ]
}