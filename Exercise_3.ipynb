{
 "metadata": {
  "name": "",
  "signature": "sha256:e0aa3ad810e973033551cb59cd0829ee6e16d172e9f9175b37c77f3393387731"
 },
 "nbformat": 3,
 "nbformat_minor": 0,
 "worksheets": [
  {
   "cells": [
    {
     "cell_type": "code",
     "collapsed": false,
     "input": [
      "import json\n",
      "from collections import OrderedDict\n",
      "import pandas as pd"
     ],
     "language": "python",
     "metadata": {},
     "outputs": [],
     "prompt_number": 1
    },
    {
     "cell_type": "code",
     "collapsed": false,
     "input": [
      "mean = pd.read_csv('./exercise3/input/mean.csv', index_col='fdntext')\n",
      "stats = pd.read_csv('./exercise3/input/stats.csv', index_col='Unnamed: 0')\n",
      "pct = pd.read_csv('./exercise3/input/pct.csv', index_col='fdntext')"
     ],
     "language": "python",
     "metadata": {},
     "outputs": [],
     "prompt_number": 2
    },
    {
     "cell_type": "code",
     "collapsed": false,
     "input": [
      "# Construct the JSON object\n",
      "\n",
      "# JSON file\n",
      "elements_dict = OrderedDict()\n",
      "report_dict = OrderedDict()\n",
      "\n",
      "json_template = OrderedDict()\n",
      "json_template[\"version\"] = \"1.0\"\n",
      "report_dict[\"name\"] = \"Tremont 14S Report\"\n",
      "report_dict[\"title\"] = \"Tremont 14S Report\"\n",
      "report_dict[\"cohorts\"] = []\n",
      "report_dict[\"segmentations\"] = []\n",
      "report_dict[\"elements\"] = elements_dict\n",
      "json_template[\"reports\"] = [report_dict]\n",
      "\n",
      "# Percentile Chart Object\n",
      "current_dict = {}\n",
      "abs_val_list = []\n",
      "\n",
      "pchart_template = OrderedDict()\n",
      "pchart_template['type'] = \"percentileChart\"\n",
      "pchart_template['absolutes'] = abs_val_list\n",
      "pchart_template['current'] = current_dict\n",
      "pchart_template['cohorts'] = []\n",
      "pchart_template['past_results'] = []\n",
      "pchart_template['segmentations'] = []\n",
      "\n",
      "# Current Dict\n",
      "value = 0\n",
      "percentage = 0\n",
      "current_template = OrderedDict()\n",
      "current_template['name'] = '2014'\n",
      "current_template['value'] = value\n",
      "current_template['percentage'] = percentage\n",
      "\n",
      "\n",
      "# Retrieve the data points\n",
      "val_list = mean.columns\n",
      "for v in val_list:\n",
      "    # Construct current_dict\n",
      "    value = mean.get_value('Tremont 14S', v)\n",
      "    percentage = pct.get_value('Tremont 14S', v)\n",
      "    current_dict = current_template\n",
      "    current_dict['value'] = value\n",
      "    current_dict['percentage'] = percentage\n",
      "    # Construct abs_val_list\n",
      "    abs_val_list = stats[v].ix[['min', '25%', '50%', '75%', 'max']].tolist()\n",
      "    # Construct pchart_dict\n",
      "    pchart_dict = pchart_template\n",
      "    pchart_dict['absolutes'] = abs_val_list\n",
      "    pchart_dict['current'] = current_dict\n",
      "    # Now assign the key v to elements_dict\n",
      "    elements_dict[v] = pchart_dict\n",
      "\n",
      "# Finally assign elements_dict to JSON template\n",
      "json_dict = json_template\n",
      "json_dict['reports'][0]['elements'] = elements_dict\n",
      "\n",
      "# Now write to JSON\n",
      "with open('./exercise3/output/output.json', 'wb') as fp:\n",
      "    json.dump(json_dict, fp, indent=4, separators=(',', ': '))"
     ],
     "language": "python",
     "metadata": {},
     "outputs": [],
     "prompt_number": 3
    }
   ],
   "metadata": {}
  }
 ]
}